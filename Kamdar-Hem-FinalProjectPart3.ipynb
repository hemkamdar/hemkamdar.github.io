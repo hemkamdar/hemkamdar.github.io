{
 "cells": [
  {
   "cell_type": "markdown",
   "id": "6f11ba60",
   "metadata": {},
   "source": [
    "## Analysing data trends for global video-games sales \n",
    "\n",
    "My primary dataset that I have chosen to represent consists of information related to genres, platforms, region-wise sales, user & critic scores of various video games released over the years. The various interactive and informative visualizations in this article gives some very interesting and unique insights about this world of video games.\n"
   ]
  },
  {
   "cell_type": "code",
   "execution_count": 1,
   "id": "1b6805dd",
   "metadata": {},
   "outputs": [],
   "source": [
    "import pandas as pd\n",
    "import bqplot\n",
    "import bqplot.pyplot \n",
    "import numpy as np\n",
    "import ipywidgets\n",
    "import matplotlib.pyplot as plt"
   ]
  },
  {
   "cell_type": "code",
   "execution_count": 2,
   "id": "5d9845ee",
   "metadata": {},
   "outputs": [],
   "source": [
    "#importing my dataset into the vaiable \"game_data\"\n",
    "game_data = pd.read_csv(\"MyData.csv\")"
   ]
  },
  {
   "cell_type": "code",
   "execution_count": 3,
   "id": "15042933",
   "metadata": {},
   "outputs": [],
   "source": [
    "#importing the contextual dataset similar to my primary datset that contanins information on sales of various products \n",
    "sales_data = pd.read_excel(\"Sales.xlsx\")"
   ]
  },
  {
   "cell_type": "code",
   "execution_count": 4,
   "id": "e5fea456",
   "metadata": {},
   "outputs": [
    {
     "data": {
      "text/html": [
       "<div>\n",
       "<style scoped>\n",
       "    .dataframe tbody tr th:only-of-type {\n",
       "        vertical-align: middle;\n",
       "    }\n",
       "\n",
       "    .dataframe tbody tr th {\n",
       "        vertical-align: top;\n",
       "    }\n",
       "\n",
       "    .dataframe thead th {\n",
       "        text-align: right;\n",
       "    }\n",
       "</style>\n",
       "<table border=\"1\" class=\"dataframe\">\n",
       "  <thead>\n",
       "    <tr style=\"text-align: right;\">\n",
       "      <th></th>\n",
       "      <th>Name</th>\n",
       "      <th>Platform</th>\n",
       "      <th>Year_of_Release</th>\n",
       "      <th>Genre</th>\n",
       "      <th>Publisher</th>\n",
       "      <th>NA_Sales</th>\n",
       "      <th>EU_Sales</th>\n",
       "      <th>JP_Sales</th>\n",
       "      <th>Other_Sales</th>\n",
       "      <th>Global_Sales</th>\n",
       "      <th>Critic_Score</th>\n",
       "      <th>Critic_Count</th>\n",
       "      <th>User_Score</th>\n",
       "      <th>User_Count</th>\n",
       "      <th>Developer</th>\n",
       "      <th>Rating</th>\n",
       "    </tr>\n",
       "  </thead>\n",
       "  <tbody>\n",
       "    <tr>\n",
       "      <th>0</th>\n",
       "      <td>Wii Sports</td>\n",
       "      <td>Wii</td>\n",
       "      <td>2006.0</td>\n",
       "      <td>Sports</td>\n",
       "      <td>Nintendo</td>\n",
       "      <td>41.36</td>\n",
       "      <td>28.96</td>\n",
       "      <td>3.77</td>\n",
       "      <td>8.45</td>\n",
       "      <td>82.53</td>\n",
       "      <td>76.0</td>\n",
       "      <td>51.0</td>\n",
       "      <td>8</td>\n",
       "      <td>322.0</td>\n",
       "      <td>Nintendo</td>\n",
       "      <td>E</td>\n",
       "    </tr>\n",
       "    <tr>\n",
       "      <th>1</th>\n",
       "      <td>Super Mario Bros.</td>\n",
       "      <td>NES</td>\n",
       "      <td>1985.0</td>\n",
       "      <td>Platform</td>\n",
       "      <td>Nintendo</td>\n",
       "      <td>29.08</td>\n",
       "      <td>3.58</td>\n",
       "      <td>6.81</td>\n",
       "      <td>0.77</td>\n",
       "      <td>40.24</td>\n",
       "      <td>NaN</td>\n",
       "      <td>NaN</td>\n",
       "      <td>NaN</td>\n",
       "      <td>NaN</td>\n",
       "      <td>NaN</td>\n",
       "      <td>NaN</td>\n",
       "    </tr>\n",
       "    <tr>\n",
       "      <th>2</th>\n",
       "      <td>Mario Kart Wii</td>\n",
       "      <td>Wii</td>\n",
       "      <td>2008.0</td>\n",
       "      <td>Racing</td>\n",
       "      <td>Nintendo</td>\n",
       "      <td>15.68</td>\n",
       "      <td>12.76</td>\n",
       "      <td>3.79</td>\n",
       "      <td>3.29</td>\n",
       "      <td>35.52</td>\n",
       "      <td>82.0</td>\n",
       "      <td>73.0</td>\n",
       "      <td>8.3</td>\n",
       "      <td>709.0</td>\n",
       "      <td>Nintendo</td>\n",
       "      <td>E</td>\n",
       "    </tr>\n",
       "    <tr>\n",
       "      <th>3</th>\n",
       "      <td>Wii Sports Resort</td>\n",
       "      <td>Wii</td>\n",
       "      <td>2009.0</td>\n",
       "      <td>Sports</td>\n",
       "      <td>Nintendo</td>\n",
       "      <td>15.61</td>\n",
       "      <td>10.93</td>\n",
       "      <td>3.28</td>\n",
       "      <td>2.95</td>\n",
       "      <td>32.77</td>\n",
       "      <td>80.0</td>\n",
       "      <td>73.0</td>\n",
       "      <td>8</td>\n",
       "      <td>192.0</td>\n",
       "      <td>Nintendo</td>\n",
       "      <td>E</td>\n",
       "    </tr>\n",
       "    <tr>\n",
       "      <th>4</th>\n",
       "      <td>Pokemon Red/Pokemon Blue</td>\n",
       "      <td>GB</td>\n",
       "      <td>1996.0</td>\n",
       "      <td>Role-Playing</td>\n",
       "      <td>Nintendo</td>\n",
       "      <td>11.27</td>\n",
       "      <td>8.89</td>\n",
       "      <td>10.22</td>\n",
       "      <td>1.00</td>\n",
       "      <td>31.37</td>\n",
       "      <td>NaN</td>\n",
       "      <td>NaN</td>\n",
       "      <td>NaN</td>\n",
       "      <td>NaN</td>\n",
       "      <td>NaN</td>\n",
       "      <td>NaN</td>\n",
       "    </tr>\n",
       "  </tbody>\n",
       "</table>\n",
       "</div>"
      ],
      "text/plain": [
       "                       Name Platform  Year_of_Release         Genre Publisher  \\\n",
       "0                Wii Sports      Wii           2006.0        Sports  Nintendo   \n",
       "1         Super Mario Bros.      NES           1985.0      Platform  Nintendo   \n",
       "2            Mario Kart Wii      Wii           2008.0        Racing  Nintendo   \n",
       "3         Wii Sports Resort      Wii           2009.0        Sports  Nintendo   \n",
       "4  Pokemon Red/Pokemon Blue       GB           1996.0  Role-Playing  Nintendo   \n",
       "\n",
       "   NA_Sales  EU_Sales  JP_Sales  Other_Sales  Global_Sales  Critic_Score  \\\n",
       "0     41.36     28.96      3.77         8.45         82.53          76.0   \n",
       "1     29.08      3.58      6.81         0.77         40.24           NaN   \n",
       "2     15.68     12.76      3.79         3.29         35.52          82.0   \n",
       "3     15.61     10.93      3.28         2.95         32.77          80.0   \n",
       "4     11.27      8.89     10.22         1.00         31.37           NaN   \n",
       "\n",
       "   Critic_Count User_Score  User_Count Developer Rating  \n",
       "0          51.0          8       322.0  Nintendo      E  \n",
       "1           NaN        NaN         NaN       NaN    NaN  \n",
       "2          73.0        8.3       709.0  Nintendo      E  \n",
       "3          73.0          8       192.0  Nintendo      E  \n",
       "4           NaN        NaN         NaN       NaN    NaN  "
      ]
     },
     "execution_count": 4,
     "metadata": {},
     "output_type": "execute_result"
    }
   ],
   "source": [
    "#Displaying the first few records of my dataset \n",
    "game_data.head()"
   ]
  },
  {
   "cell_type": "code",
   "execution_count": 5,
   "id": "9032340c",
   "metadata": {
    "scrolled": false
   },
   "outputs": [
    {
     "data": {
      "text/html": [
       "<div>\n",
       "<style scoped>\n",
       "    .dataframe tbody tr th:only-of-type {\n",
       "        vertical-align: middle;\n",
       "    }\n",
       "\n",
       "    .dataframe tbody tr th {\n",
       "        vertical-align: top;\n",
       "    }\n",
       "\n",
       "    .dataframe thead th {\n",
       "        text-align: right;\n",
       "    }\n",
       "</style>\n",
       "<table border=\"1\" class=\"dataframe\">\n",
       "  <thead>\n",
       "    <tr style=\"text-align: right;\">\n",
       "      <th></th>\n",
       "      <th>Date</th>\n",
       "      <th>Year</th>\n",
       "      <th>Month</th>\n",
       "      <th>Customer Age</th>\n",
       "      <th>Customer Gender</th>\n",
       "      <th>Country</th>\n",
       "      <th>State</th>\n",
       "      <th>Product Category</th>\n",
       "      <th>Sub Category</th>\n",
       "      <th>Quantity</th>\n",
       "      <th>Unit Cost</th>\n",
       "      <th>Unit Price</th>\n",
       "      <th>Cost</th>\n",
       "      <th>Revenue</th>\n",
       "      <th>Column1</th>\n",
       "    </tr>\n",
       "  </thead>\n",
       "  <tbody>\n",
       "    <tr>\n",
       "      <th>0</th>\n",
       "      <td>2016-02-19</td>\n",
       "      <td>2016.0</td>\n",
       "      <td>February</td>\n",
       "      <td>29.0</td>\n",
       "      <td>F</td>\n",
       "      <td>United States</td>\n",
       "      <td>Washington</td>\n",
       "      <td>Accessories</td>\n",
       "      <td>Tires and Tubes</td>\n",
       "      <td>1.0</td>\n",
       "      <td>80.00</td>\n",
       "      <td>109.000000</td>\n",
       "      <td>80.0</td>\n",
       "      <td>109.0</td>\n",
       "      <td>NaN</td>\n",
       "    </tr>\n",
       "    <tr>\n",
       "      <th>1</th>\n",
       "      <td>2016-02-20</td>\n",
       "      <td>2016.0</td>\n",
       "      <td>February</td>\n",
       "      <td>29.0</td>\n",
       "      <td>F</td>\n",
       "      <td>United States</td>\n",
       "      <td>Washington</td>\n",
       "      <td>Clothing</td>\n",
       "      <td>Gloves</td>\n",
       "      <td>2.0</td>\n",
       "      <td>24.50</td>\n",
       "      <td>28.500000</td>\n",
       "      <td>49.0</td>\n",
       "      <td>57.0</td>\n",
       "      <td>NaN</td>\n",
       "    </tr>\n",
       "    <tr>\n",
       "      <th>2</th>\n",
       "      <td>2016-02-27</td>\n",
       "      <td>2016.0</td>\n",
       "      <td>February</td>\n",
       "      <td>29.0</td>\n",
       "      <td>F</td>\n",
       "      <td>United States</td>\n",
       "      <td>Washington</td>\n",
       "      <td>Accessories</td>\n",
       "      <td>Tires and Tubes</td>\n",
       "      <td>3.0</td>\n",
       "      <td>3.67</td>\n",
       "      <td>5.000000</td>\n",
       "      <td>11.0</td>\n",
       "      <td>15.0</td>\n",
       "      <td>NaN</td>\n",
       "    </tr>\n",
       "    <tr>\n",
       "      <th>3</th>\n",
       "      <td>2016-03-12</td>\n",
       "      <td>2016.0</td>\n",
       "      <td>March</td>\n",
       "      <td>29.0</td>\n",
       "      <td>F</td>\n",
       "      <td>United States</td>\n",
       "      <td>Washington</td>\n",
       "      <td>Accessories</td>\n",
       "      <td>Tires and Tubes</td>\n",
       "      <td>2.0</td>\n",
       "      <td>87.50</td>\n",
       "      <td>116.500000</td>\n",
       "      <td>175.0</td>\n",
       "      <td>233.0</td>\n",
       "      <td>NaN</td>\n",
       "    </tr>\n",
       "    <tr>\n",
       "      <th>4</th>\n",
       "      <td>2016-03-12</td>\n",
       "      <td>2016.0</td>\n",
       "      <td>March</td>\n",
       "      <td>29.0</td>\n",
       "      <td>F</td>\n",
       "      <td>United States</td>\n",
       "      <td>Washington</td>\n",
       "      <td>Accessories</td>\n",
       "      <td>Tires and Tubes</td>\n",
       "      <td>3.0</td>\n",
       "      <td>35.00</td>\n",
       "      <td>41.666667</td>\n",
       "      <td>105.0</td>\n",
       "      <td>125.0</td>\n",
       "      <td>NaN</td>\n",
       "    </tr>\n",
       "  </tbody>\n",
       "</table>\n",
       "</div>"
      ],
      "text/plain": [
       "        Date    Year     Month  Customer Age Customer Gender        Country  \\\n",
       "0 2016-02-19  2016.0  February          29.0               F  United States   \n",
       "1 2016-02-20  2016.0  February          29.0               F  United States   \n",
       "2 2016-02-27  2016.0  February          29.0               F  United States   \n",
       "3 2016-03-12  2016.0     March          29.0               F  United States   \n",
       "4 2016-03-12  2016.0     March          29.0               F  United States   \n",
       "\n",
       "        State Product Category     Sub Category  Quantity  Unit Cost  \\\n",
       "0  Washington      Accessories  Tires and Tubes       1.0      80.00   \n",
       "1  Washington         Clothing           Gloves       2.0      24.50   \n",
       "2  Washington      Accessories  Tires and Tubes       3.0       3.67   \n",
       "3  Washington      Accessories  Tires and Tubes       2.0      87.50   \n",
       "4  Washington      Accessories  Tires and Tubes       3.0      35.00   \n",
       "\n",
       "   Unit Price   Cost  Revenue  Column1  \n",
       "0  109.000000   80.0    109.0      NaN  \n",
       "1   28.500000   49.0     57.0      NaN  \n",
       "2    5.000000   11.0     15.0      NaN  \n",
       "3  116.500000  175.0    233.0      NaN  \n",
       "4   41.666667  105.0    125.0      NaN  "
      ]
     },
     "execution_count": 5,
     "metadata": {},
     "output_type": "execute_result"
    }
   ],
   "source": [
    "#Displaying the first few rows of the contextual dataset identified by me that is similar to my primary dataset. \n",
    "#This is the sales dataset which can be found here:\n",
    "#https://data.world/vineet/salesdata/workspace/file?filename=SalesForCourse_quizz_table.xlsx\n",
    "#The user will have to log in to data.world to access this data\n",
    "sales_data.head()"
   ]
  },
  {
   "cell_type": "code",
   "execution_count": 6,
   "id": "a95502ee",
   "metadata": {},
   "outputs": [],
   "source": [
    "#Creating a pivot table to implement a interactive grid heat map in the future. \n",
    "mypivot = pd.pivot_table(game_data, index = 'Platform', columns='Genre',values = 'Global_Sales', aggfunc = 'mean',fill_value=0)"
   ]
  },
  {
   "cell_type": "code",
   "execution_count": 7,
   "id": "8ba476a4",
   "metadata": {},
   "outputs": [],
   "source": [
    "#Defining NA Sales for various Genres and Platforms of video games \n",
    "genre = game_data.groupby(\"Genre\")[\"NA_Sales\"].sum()\n",
    "platform = game_data.groupby(\"Platform\")[\"NA_Sales\"].sum()"
   ]
  },
  {
   "cell_type": "code",
   "execution_count": 8,
   "id": "c7dae156",
   "metadata": {},
   "outputs": [],
   "source": [
    "#Defining EU Sales for various Genres and Platforms of video games\n",
    "genre2 = game_data.groupby(\"Genre\")[\"EU_Sales\"].sum()\n",
    "platform2 = game_data.groupby(\"Platform\")[\"EU_Sales\"].sum()"
   ]
  },
  {
   "cell_type": "code",
   "execution_count": 9,
   "id": "aa7b0c88",
   "metadata": {},
   "outputs": [],
   "source": [
    "#Defining JP Sales for various Genres and Platforms of video games\n",
    "genre3 = game_data.groupby(\"Genre\")[\"JP_Sales\"].sum()\n",
    "platform3 = game_data.groupby(\"Platform\")[\"JP_Sales\"].sum()"
   ]
  },
  {
   "cell_type": "code",
   "execution_count": 10,
   "id": "258ae000",
   "metadata": {},
   "outputs": [
    {
     "data": {
      "image/png": "[encoded data removed]",
      "text/plain": [
       "<Figure size 1440x576 with 1 Axes>"
      ]
     },
     "metadata": {
      "needs_background": "light"
     },
     "output_type": "display_data"
    }
   ],
   "source": [
    "#Comparing the region-wise Sales for all games belonging to different Genres\n",
    "fig, ax = plt.subplots(figsize=(20,8))\n",
    "y=genre.reset_index()\n",
    "z=genre2.reset_index()\n",
    "b=genre3.reset_index()\n",
    "\n",
    "x_axis = np.arange(len(y['Genre']))\n",
    "\n",
    "plt.bar(x_axis ,y['NA_Sales'],color = 'Magenta', width=0.25)\n",
    "plt.bar(x_axis+0.25 ,z['EU_Sales'],color = 'Blue', width=0.25)\n",
    "plt.bar(x_axis+0.5 ,b['JP_Sales'],color = 'Yellow',width=0.25)\n",
    "\n",
    "\n",
    "plt.xticks(x_axis, y['Genre'])\n",
    "\n",
    "ax.set_xlabel(\"Genre\")\n",
    "ax.set_ylabel(\"Sales for various Genres in NA, EU and JP Region\")\n",
    "ax.legend(labels=['NA Sales', 'EU Sales','JP Sales'])\n",
    "plt.show()"
   ]
  },
  {
   "cell_type": "markdown",
   "id": "a9963a84",
   "metadata": {},
   "source": [
    "The above multiple bar chart gives an at-a-glance overview of number of copies sold of all the games of different genres. This visualization compares the sales of all these games in different regions like, North America, Europe, and Japan. This comparable view gives user an idea about what genre is popular in which region. For instance, more \"Role-Playing\" video games have been sold in Japan than America or Europe and Action and sports seem widely popular in NA region. "
   ]
  },
  {
   "cell_type": "code",
   "execution_count": 11,
   "id": "4e75072c",
   "metadata": {},
   "outputs": [
    {
     "data": {
      "image/png": "[encoded data removed]",
      "text/plain": [
       "<Figure size 1440x576 with 1 Axes>"
      ]
     },
     "metadata": {
      "needs_background": "light"
     },
     "output_type": "display_data"
    }
   ],
   "source": [
    "#Comparing region wise sales for all games across different platforms\n",
    "fig, ax = plt.subplots(figsize=(20,8))\n",
    "h=platform.reset_index()\n",
    "e=platform2.reset_index()\n",
    "m=platform3.reset_index()\n",
    "\n",
    "x2_axis = np.arange(len(h['Platform']))\n",
    "\n",
    "plt.bar(x2_axis ,h['NA_Sales'],color = 'Orange', width=0.25)\n",
    "plt.bar(x2_axis+0.25 ,e['EU_Sales'],color = 'Blue', width=0.25)\n",
    "plt.bar(x2_axis+0.5 ,m['JP_Sales'],color = 'Green',width=0.25)\n",
    "\n",
    "\n",
    "plt.xticks(x2_axis, h['Platform'])\n",
    "\n",
    "ax.set_xlabel(\"Platform\")\n",
    "ax.set_ylabel(\"Sales for various Platforms in NA, EU and JP Region\")\n",
    "ax.legend(labels=['NA Sales', 'EU Sales','JP Sales'])\n",
    "plt.show()"
   ]
  },
  {
   "cell_type": "markdown",
   "id": "86f3c5e2",
   "metadata": {},
   "source": [
    "Similar to the first visualization the above graph shows the number of video games sold in each platform like Wii, PC, PS4 and so on. The multiple bars add an extra dimension of comparing the sales in each region like NA, EU, and JP. Therefore essentially, the viewer or the user can get information like the popularity of various platforms in each region based on the number of video games sold for each platform. for instance, X360 and PS2 seem very popular in the NA region while people in Europe prefer games that are played on PS3 more than X360 or Wii. "
   ]
  },
  {
   "cell_type": "code",
   "execution_count": 12,
   "id": "fbb9b50c",
   "metadata": {},
   "outputs": [],
   "source": [
    "#Defining bins to make interactive bar charts to get information on sales of various regions compared to the global sales of \n",
    "#all video games of particular region or a particular genre\n",
    "field_bin= [\"Genre\",\"Platform\"]\n",
    "region_bin=[\"NA_Sales\",\"EU_Sales\",\"JP_Sales\"]"
   ]
  },
  {
   "cell_type": "code",
   "execution_count": 15,
   "id": "82141c6c",
   "metadata": {},
   "outputs": [
    {
     "data": {
      "application/vnd.jupyter.widget-view+json": {
       "model_id": "bf709f13bacb4523aaa112ccc49d6217",
       "version_major": 2,
       "version_minor": 0
      },
      "text/plain": [
       "interactive(children=(Dropdown(description='style', options=('Solarize_Light2', '_classic_test_patch', 'bmh', …"
      ]
     },
     "metadata": {},
     "output_type": "display_data"
    }
   ],
   "source": [
    "#Refered to this code from Kamdar-Hem-Homework4.ipynb \n",
    "@ipywidgets.interact(Field = field_bin,Region=region_bin,style=plt.style.available)\n",
    "def make_plot(style,Field,Region):\n",
    "    with plt.style.context(style): \n",
    "        fig, ax = plt.subplots(1,1,figsize=(15,3))\n",
    "        if Region in [\"NA_Sales\"]:\n",
    "            df=game_data.groupby(Field)[\"Global_Sales\"].sum()\n",
    "            df2=game_data.groupby(Field)[\"NA_Sales\"].sum()\n",
    "            ax.bar(df.index,df.values)\n",
    "            ax.bar(df2.index,df2.values)\n",
    "            ax.set_xlabel(Field)\n",
    "            ax.set_ylabel(\"NA Sales compared to Global Sales(Millions of Copies Sold)\")\n",
    "            ax.legend(labels=['Global Sales', 'NA Sales'])\n",
    "        \n",
    "        elif Region in [\"EU_Sales\"]:\n",
    "            df3=game_data.groupby(Field)[\"Global_Sales\"].sum()\n",
    "            df4=game_data.groupby(Field)[\"EU_Sales\"].sum()\n",
    "            ax.bar(df3.index,df3.values)\n",
    "            ax.bar(df4.index,df4.values)\n",
    "            ax.set_xlabel(Field)\n",
    "            ax.set_ylabel(\"EU Sales compared to Global Sales(Millions of Copies Sold)\")\n",
    "            ax.legend(labels=['Global Sales', 'EU Sales'])\n",
    "        \n",
    "        else :\n",
    "            df5=game_data.groupby(Field)[\"Global_Sales\"].sum()\n",
    "            df6=game_data.groupby(Field)[\"JP_Sales\"].sum()\n",
    "            ax.bar(df5.index,df5.values)\n",
    "            ax.bar(df6.index,df6.values)\n",
    "            ax.set_xlabel(Field)\n",
    "            ax.set_ylabel(\"JP Sales compared to Global Sales(Millions of Copies Sold)\")\n",
    "            ax.legend(labels=['Global Sales', 'JP Sales'])\n",
    "         \n",
    "\n",
    "    plt.show()"
   ]
  },
  {
   "cell_type": "markdown",
   "id": "bcd7ada8",
   "metadata": {},
   "source": [
    "The two multiple bar chart as discussed above leads to this interactive bar chart, where the user can select what they want to view as well as how they want to see it. It makes the entire process of getting information easy, fun and intuitive for the user.\n",
    "\n",
    "In the above interactive plot, the user has the choice to select the style they want the visualization to appear in, combined with what they want to see. For instance, a user can select if they want to view number of copies of video games sold for every gaming console or if they want to view and compare the sales of various genres these video games belong to. Also, the interactive visualization gives the user a choice of an extra dimension, that is to choose the region for which they want to see the number of video games sold. By default, this number of sales will be represented as a stacked bar chart to give the user additional information on the number of sales in each region compared to the total global sales.\n",
    "\n",
    "An example of what user can select is that a user might want to compare which genre is popular across the NA region and overall which genre is popular globally with respect to the highest number of copies sold. The user can select \"Genre\" from the \"Field\" dropdown and further can select \"NA_sales\" from the \"Region\" drop down. The user can additionally choose the style they would wish to see this plot in from the style drop down. These choices will then go on to display the requested information. The user can get interesting insights like Globally Action games are sold most followed by sports video games and that this trend is also followed in the NA region where \"Action\" games are sold the most which is closely followed by the \"sports\" video games. While in the Japan region far more \"Role-Playing\" games are sold than any other genre which is followed by Action, platform, and sports video games. Also, it can be observed that \"Shooter\" video games are relatively popular globally but not so much in Japan.\n"
   ]
  },
  {
   "cell_type": "code",
   "execution_count": 16,
   "id": "544eb547",
   "metadata": {},
   "outputs": [],
   "source": [
    "#Implementing an interactive dashboard of my primary data that sheds light on mean global sales of games belonging to a \n",
    "#specific platform and genre and further displaying total global sales over the years for the same \n",
    "#plotting the bar plot\n",
    "#Refered to this code from my Homework 6 Assignment(Kamdar-Hem-Homework6.ipynb)\n",
    "# Scale for bar plot\n",
    "x_scale = bqplot.OrdinalScale()\n",
    "y_scale = bqplot.LinearScale()\n",
    "\n",
    "# Axes for bar plot\n",
    "ax_xb = bqplot.Axis(scale = x_scale, label = 'Year of Release')\n",
    "ax_yb = bqplot.Axis(scale = y_scale, label = 'Total Global sales (Millions of copies)', orientation = 'vertical')\n",
    "\n",
    "# Mark\n",
    "bp = bqplot.pyplot.bar(x = [], y = [], scales={'x': x_scale, 'y': y_scale})\n",
    "\n",
    "figurebar = bqplot.Figure(marks = [bp], axes=[ax_xb, ax_yb])"
   ]
  },
  {
   "cell_type": "code",
   "execution_count": 17,
   "id": "189f3de5",
   "metadata": {
    "scrolled": false
   },
   "outputs": [
    {
     "data": {
      "application/vnd.jupyter.widget-view+json": {
       "model_id": "a0cbc2e9a39b4eb3a6f7bdf760b4ab4e",
       "version_major": 2,
       "version_minor": 0
      },
      "text/plain": [
       "VBox(children=(VBox(children=(Label(value=''), Figure(axes=[ColorAxis(orientation='vertical', scale=ColorScale…"
      ]
     },
     "metadata": {},
     "output_type": "display_data"
    }
   ],
   "source": [
    "#Now that I have the required data using pivot, I made the heat map.\n",
    "#Refered to this code from my Homework 6 Assignment(Kamdar-Hem-Homework6.ipynb)\n",
    "\n",
    "# 1. data (mypivot)\n",
    "\n",
    "# 2. scales\n",
    "col_sc = bqplot.ColorScale(scheme='RedPu')\n",
    "x_sc = bqplot.OrdinalScale()\n",
    "y_sc = bqplot.OrdinalScale() \n",
    "\n",
    "# 3. axis\n",
    "col_ax = bqplot.ColorAxis(scale=col_sc, orientation='vertical', side='right')\n",
    "x_ax = bqplot.Axis(scale=x_sc, label='Genre')\n",
    "y_ax = bqplot.Axis(scale=y_sc, orientation='vertical', label='Platform')\n",
    "\n",
    "# 4. Marks\n",
    "heat_map = bqplot.GridHeatMap(color=mypivot.values, \n",
    "                             row = mypivot.index, column = mypivot.columns, \n",
    "                             scales={'color':col_sc, 'row':y_sc, 'column':x_sc}, \n",
    "                             interactions={'click':'select'}, \n",
    "                             anchor_style={'fill':'blue'})\n",
    "def barplot_fig(x, y):\n",
    "    df2 = game_data[(game_data['Genre'] == y) & (game_data['Platform'] == x)]\n",
    "    df2 = df2[df2['Year_of_Release'] != 0]\n",
    "    df2 = df2.groupby('Year_of_Release')['Global_Sales'].sum()\n",
    "    return df2\n",
    "\n",
    "    \n",
    "# 5. linking \n",
    "mySelectedLabel = ipywidgets.Label()\n",
    "def on_selected(change):\n",
    "    if len(change['owner'].selected) == 1: # only allow user to select 1 bin\n",
    "        i,j = change['owner'].selected[0]\n",
    "        v = mypivot.values[i,j] # data value in that bin\n",
    "        mySelectedLabel.value = 'Mean Global Sales of a game played on: ' + mypivot.index[i] + ' of Genre: ' + mypivot.columns[j] + ' = ' + str(v)\n",
    "        game_new = barplot_fig(mypivot.index[i], mypivot.columns[j])\n",
    "     \n",
    "        bp.x = game_new.index\n",
    "        bp.y = game_new.values\n",
    "heat_map.observe(on_selected, 'selected')\n",
    "\n",
    "\n",
    "# 6. figure!\n",
    "fig = bqplot.Figure(marks=[heat_map], axes=[col_ax, x_ax, y_ax])\n",
    "fig.layout.min_width='500px'\n",
    "figurebar.layout.min_width = '500px'\n",
    "myDashboard = ipywidgets.VBox([mySelectedLabel, fig])\n",
    "myDashboard_final = ipywidgets.VBox([myDashboard, figurebar])\n",
    "myDashboard_final"
   ]
  },
  {
   "cell_type": "markdown",
   "id": "78ec334b",
   "metadata": {},
   "source": [
    "Summary:\n",
    "The above dashboard is in lines with the interactive visualization designed previously and it consists of 2 simple visualizations that are linked together. This dashboard combines the dimensions of \"Genre\" and \"Platform “that the user has been viewing atomically and getting insights from. The Grid heat map, that is the cells that look like different shades of red, represents the mean sales of all games launched on a specific gaming console, for instance PS3, PS4,X360, etc. and belonging to a specific genre like Action, adventure, Racing, sports etc. and the bar chart goes on to show the total global sales each year(That is millions of copies sold per year)for the selected platform and genre of games when the games were released. Essentially selecting a cell in the grid will give the user information on mean sales of all video games of a specific genre that are played on a particular genre. for example, on an average 0.7 million copies of a \"Puzzle\" video game are sold that are played on GBA (Game boy advance)\n",
    "\n",
    "Working: \n",
    "The dashboard is very user friendly and gives a lot of sales related information by just one click of the mouse. The cells present in the grid heat map, that is the top component of the dashboard are clickable. As soon as you click on one of the cells, one line above the component talks about your selection and gives the exact value of the cell, it will look something like this:\n",
    "\"Mean Global Sales of a game played on: PS4 of Genre: Shooter = 2.16\" which means on an average 2.16 million copies of a shooter game are sold which is played on PS4. That means if someone were to launch a shooting game for the PS4 console they might expect to sell approximately 2.16 million copies of that video games across the world.\n",
    "Further, the bar chart breaks the sales down to all years when shooting games were launched on PS4 and shows the total sales of all shooting games launched on PS4 for that specific year. To summarize, the bar graph represents the total global sales of all games launched on a specific platform and belonging to a specific genre for a certain year. For instance, in 2014 an aggregate of more than 20 million copies of shooting games were sold worldwide which increased to upwards of 30 million the following year.\n"
   ]
  },
  {
   "cell_type": "code",
   "execution_count": 18,
   "id": "a19215db",
   "metadata": {},
   "outputs": [],
   "source": [
    "#Now analyzing and visualizing the contextual sales dataset\n",
    "country = sales_data.groupby(\"Country\")[\"Revenue\"].sum()"
   ]
  },
  {
   "cell_type": "code",
   "execution_count": 19,
   "id": "aebb7975",
   "metadata": {},
   "outputs": [],
   "source": [
    "#Creating various bins to implement interactive bar charts that shows total revenue or total cost \n",
    "#for countries or product sub categories \n",
    "region_bin=[\"Country\",\"Sub Category\"]\n",
    "cost_revenue=[\"Revenue with Cost\",\"Revenue\"]"
   ]
  },
  {
   "cell_type": "code",
   "execution_count": 20,
   "id": "eadc090c",
   "metadata": {},
   "outputs": [
    {
     "data": {
      "application/vnd.jupyter.widget-view+json": {
       "model_id": "075371e93b2947ad89001b2b52640ca9",
       "version_major": 2,
       "version_minor": 0
      },
      "text/plain": [
       "interactive(children=(Dropdown(description='style', options=('Solarize_Light2', '_classic_test_patch', 'bmh', …"
      ]
     },
     "metadata": {},
     "output_type": "display_data"
    }
   ],
   "source": [
    "@ipywidgets.interact(Field = region_bin,style=plt.style.available,Cost_or_Revenue=cost_revenue)\n",
    "def make_plot2(style,Field,Cost_or_Revenue):\n",
    "    with plt.style.context(style): \n",
    "        fig, ax = plt.subplots(1,1,figsize=(25,7))\n",
    "        if Cost_or_Revenue in ['Revenue']:\n",
    "            dfs=sales_data.groupby(Field)[\"Revenue\"].sum()\n",
    "            ax.bar(dfs.index,dfs.values)\n",
    "            ax.set_xlabel(Field)\n",
    "            ax.set_ylabel(\"Revenue\")\n",
    "        else:\n",
    "            dfs2=sales_data.groupby(Field)[\"Revenue\"].sum()\n",
    "            dfs=sales_data.groupby(Field)[\"Cost\"].sum()\n",
    "            ax.bar(dfs2.index,dfs2.values)\n",
    "            ax.bar(dfs.index,dfs.values)\n",
    "            ax.set_xlabel(Field)\n",
    "            ax.set_ylabel(\"Revenue and Cost\")\n",
    "            ax.legend(labels=['Revenue', 'Cost'])\n",
    "            \n",
    "        #ax.set_yscale('log')\n",
    "    plt.show()\n",
    "      "
   ]
  },
  {
   "cell_type": "markdown",
   "id": "9e7f8d74",
   "metadata": {},
   "source": [
    "The above interesting and interactive plot represents information from a contextual dataset that is like my primary dataset. It shows vital sales information on sales of various products in different countries and has information on the revenue that these products made which I think would have been useful if present in my primary dataset to analyze the number of copies sold along with the amount of money the video game made. This is the reason I chose to play around with this data and to get information and perform analysis based on what products makes the most money and not just which product is popular. Further, I believe having the \"Revenue\" dimension in tandem with the number of copies sold in my primary dataset would help to analyze users which gaming platform or genre is vital in terms of making the most money for a developer in a certain region."
   ]
  },
  {
   "cell_type": "markdown",
   "id": "4f6ec085",
   "metadata": {},
   "source": [
    "Again, the interactive bar chart here gives the user the freedom to select what they want to see and how do they want to view it. \n",
    "The user has the choice to view information on total revenue generated by all products in various countries. This gives an idea about the spending capacity of each country and at a higher-level help anyone make decisions on marketing and distribution channels based on region and money the products are making for them. But for this latter insight having additional information like what products generate the highest revenue may help in making more effective decisions (Something that lacked in my primary dataset) and this visualization also sheds light on that as the user can select \"Sub-Category\" from the \"Field\" dropdown. This gives the user vital information like Mountain bikes generate the highest revenue followed by Road bikes. To generate additional information the user has the option to view the costs along with this revenue to analyze the costs in each country and costs incurred for each product subcategory. This will help a user make a well-rounded and informed decision. \n",
    "\n",
    "But the user might want a combination of the information presented in this plot, like the user might be interested in knowing the revenue a certain product generated in a particular country. This information can be explored in the next dashboard that I have implemented. \n"
   ]
  },
  {
   "cell_type": "code",
   "execution_count": 21,
   "id": "f92b2995",
   "metadata": {},
   "outputs": [],
   "source": [
    "#Creating a pivot table to show mean revenue of various product subcategories in a specific country \n",
    "mypivot2 = pd.pivot_table(sales_data, index = 'Sub Category', columns='Country',values = 'Revenue', aggfunc = 'mean',fill_value=0)"
   ]
  },
  {
   "cell_type": "code",
   "execution_count": 22,
   "id": "9d7bf60e",
   "metadata": {},
   "outputs": [],
   "source": [
    "#plotting the bar plot\n",
    "#Refered to this code from my Homework 6 Assignment(Kamdar-Hem-Homework6.ipynb)\n",
    "# Scale for bar plot\n",
    "x2_scale = bqplot.OrdinalScale()\n",
    "y2_scale = bqplot.LinearScale()\n",
    "\n",
    "# Axes for bar plot\n",
    "ax_xb2 = bqplot.Axis(scale = x2_scale, label = 'Year')\n",
    "ax_yb2 = bqplot.Axis(scale = y2_scale, label = 'Total Revenue', orientation = 'vertical')\n",
    "\n",
    "# Mark\n",
    "bp1 = bqplot.pyplot.bar(x = [], y = [], scales={'x': x2_scale, 'y': y2_scale})\n",
    "\n",
    "figurebar1 = bqplot.Figure(marks = [bp1], axes=[ax_xb2, ax_yb2])"
   ]
  },
  {
   "cell_type": "code",
   "execution_count": 23,
   "id": "7acba30f",
   "metadata": {},
   "outputs": [
    {
     "data": {
      "application/vnd.jupyter.widget-view+json": {
       "model_id": "9bf27d84eb164fbf8dc3b39adbef9bd8",
       "version_major": 2,
       "version_minor": 0
      },
      "text/plain": [
       "VBox(children=(VBox(children=(Label(value=''), Figure(axes=[ColorAxis(orientation='vertical', scale=ColorScale…"
      ]
     },
     "metadata": {},
     "output_type": "display_data"
    }
   ],
   "source": [
    "#Now that I have the required data using pivot, I made the heat map.\n",
    "#Refered to this code from my Homework 6 Assignment(Kamdar-Hem-Homework6.ipynb)\n",
    "\n",
    "# 1. data (mypivot)\n",
    "\n",
    "# 2. scales\n",
    "col_sc = bqplot.ColorScale(scheme='RedPu')\n",
    "x_sc = bqplot.OrdinalScale()\n",
    "y_sc = bqplot.OrdinalScale() \n",
    "\n",
    "# 3. axis\n",
    "col_ax = bqplot.ColorAxis(scale=col_sc, orientation='vertical', side='right')\n",
    "x_ax = bqplot.Axis(scale=x_sc, label='Country')\n",
    "y_ax = bqplot.Axis(scale=y_sc, orientation='vertical', label='Sub Category')\n",
    "\n",
    "# 4. Marks\n",
    "heat_map_new = bqplot.GridHeatMap(color=mypivot2.values, \n",
    "                             row = mypivot2.index, column = mypivot2.columns, \n",
    "                             scales={'color':col_sc, 'row':y_sc, 'column':x_sc}, \n",
    "                             interactions={'click':'select'}, \n",
    "                             anchor_style={'fill':'blue'})\n",
    "def barplot_fig2(x, y):\n",
    "    dfsd = sales_data[(sales_data['Country'] == y) & (sales_data['Sub Category'] == x)]\n",
    "    dfsd = dfsd[dfsd['Year'] != 0]\n",
    "    dfsd= dfsd.groupby('Year')['Revenue'].sum()\n",
    "    return dfsd\n",
    "\n",
    "    \n",
    "# 5. linking \n",
    "mySelectedLabel2 = ipywidgets.Label()\n",
    "def on_selected(change_new):\n",
    "    if len(change_new['owner'].selected) == 1: # only allow user to select 1 bin\n",
    "        i,j = change_new['owner'].selected[0]\n",
    "        v = mypivot2.values[i,j] # data value in that bin\n",
    "        mySelectedLabel2.value = 'Mean Global Sales for Product Sub-Category: ' + mypivot2.index[i] + ' in Country: ' + mypivot2.columns[j] + ' = ' + str(v)\n",
    "        sales_new = barplot_fig2(mypivot2.index[i], mypivot2.columns[j])\n",
    "     \n",
    "        bp1.x = sales_new.index\n",
    "        bp1.y = sales_new.values\n",
    "heat_map_new.observe(on_selected, 'selected')\n",
    "\n",
    "\n",
    "# 6. figure!\n",
    "fig7 = bqplot.Figure(marks=[heat_map_new], axes=[col_ax, x_ax, y_ax])\n",
    "fig7.layout.min_width='600px'\n",
    "figurebar1.layout.min_width = '500px'\n",
    "myDashboard2 = ipywidgets.VBox([mySelectedLabel2, fig7])\n",
    "myDashboard_final2 = ipywidgets.VBox([myDashboard2, figurebar1])\n",
    "myDashboard_final2"
   ]
  },
  {
   "cell_type": "markdown",
   "id": "6c0635e6",
   "metadata": {},
   "source": [
    "Finally, this simple interactive dashboard combines the insights gained in the interactive bar plot to a singular view. The colorful grid heat map shows the mean revenue generated by a particular product in a certain country, and further the bar graph shows the total revenue generated by that product in that country for a certain year. \n",
    "This aligns with the dashboard created for my primary data set but here a user can leverage the information on revenue generated for the analysis. \n",
    "The working is like that of the dashboard created using the primary dataset. A user can select any cell from the grid heat map and information on the selection pops up above the plot which gives information in the lines of: Mean Global Sales for Product Sub-Category: Hydration Packs in Country: United Kingdom = 1099.2272727272727. This gives a numeric value of revenue generated by selling Hydration Packs in United Kingdom. \n",
    "As soon as the user selects a cell the bar plot below the heat map gives information on total revenue that product subcategory generated in that country in a specific year. \n"
   ]
  },
  {
   "cell_type": "code",
   "execution_count": null,
   "id": "731d9dad",
   "metadata": {},
   "outputs": [],
   "source": []
  }
 ],
 "metadata": {
  "kernelspec": {
   "display_name": "Python 3 (ipykernel)",
   "language": "python",
   "name": "python3"
  },
  "language_info": {
   "codemirror_mode": {
    "name": "ipython",
    "version": 3
   },
   "file_extension": ".py",
   "mimetype": "text/x-python",
   "name": "python",
   "nbconvert_exporter": "python",
   "pygments_lexer": "ipython3",
   "version": "3.7.10"
  }
 },
 "nbformat": 4,
 "nbformat_minor": 5
}
